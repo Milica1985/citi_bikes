{
 "cells": [
  {
   "cell_type": "code",
   "execution_count": 1,
   "id": "ad05b892-2258-4c49-b82a-27138956c9a0",
   "metadata": {},
   "outputs": [],
   "source": [
    "import streamlit as st\n",
    "import pandas as pd\n",
    "import numpy as np\n",
    "import plotly.express as px\n",
    "from plotly.subplots import make_subplots\n",
    "import plotly.graph_objects as go\n",
    "import matplotlib.pyplot as plt\n",
    "from datetime import datetime as dt\n",
    "from streamlit_keplergl import keplergl_static"
   ]
  },
  {
   "cell_type": "code",
   "execution_count": null,
   "id": "e70fc591-6eaa-40eb-950c-26c940e931bd",
   "metadata": {},
   "outputs": [
    {
     "name": "stderr",
     "output_type": "stream",
     "text": [
      "/var/folders/3n/vp5_vxxd66d3_nhm1qw9k_580000gn/T/ipykernel_93978/1369436704.py:1: DtypeWarning: Columns (6,8) have mixed types. Specify dtype option on import or set low_memory=False.\n",
      "  df = pd.read_csv('new_york_data_clean.csv', index_col = 0)\n"
     ]
    }
   ],
   "source": [
    "df = pd.read_csv('new_york_data_clean.csv', index_col = 0)"
   ]
  },
  {
   "cell_type": "code",
   "execution_count": null,
   "id": "8766b26d-1df6-4f2d-9773-8c85570025b8",
   "metadata": {},
   "outputs": [],
   "source": [
    "df.dtypes"
   ]
  },
  {
   "cell_type": "code",
   "execution_count": null,
   "id": "f917759d-b413-4e89-9b28-f056d17703ca",
   "metadata": {},
   "outputs": [],
   "source": [
    "# Create a month column \n",
    "\n",
    "df['date'] = pd.to_datetime(df['date'], format = '%Y-%m-%d')\n",
    "df['month'] = df['date'].dt.month\n",
    "df['month'] = df['month'].astype('int')"
   ]
  },
  {
   "cell_type": "code",
   "execution_count": null,
   "id": "527bc914-e4c3-4e69-b5b8-5f49c220d2b9",
   "metadata": {},
   "outputs": [],
   "source": [
    "# Create the season column\n",
    "\n",
    "df['season'] = [\n",
    "\"winter\" if (month == 12 or 1 <= month <= 4)\n",
    "    else \"spring\" if (4 < month <= 5)\n",
    "    else \"summer\" if (6 <= month <= 9)\n",
    "    else \"fall\"\n",
    "for month in df['month']\n",
    "    ]"
   ]
  },
  {
   "cell_type": "code",
   "execution_count": null,
   "id": "b5786eb2-9c90-40cb-a4a8-131d775f7abd",
   "metadata": {},
   "outputs": [],
   "source": [
    "df.shape"
   ]
  },
  {
   "cell_type": "code",
   "execution_count": null,
   "id": "0ca75d86-cf08-4d34-ac12-86f5a9600724",
   "metadata": {},
   "outputs": [],
   "source": [
    "df.columns"
   ]
  },
  {
   "cell_type": "code",
   "execution_count": null,
   "id": "c29e7278-bc93-4038-b36f-6cb12433f0ae",
   "metadata": {},
   "outputs": [],
   "source": [
    "## Groupby\n",
    "\n",
    "df['value'] = 1 \n",
    "df_groupby_bar = df.groupby('start_station_name', as_index=False).agg({'value': 'sum'})\n",
    "top20 = df_groupby_bar.nlargest(20, 'value')"
   ]
  },
  {
   "cell_type": "code",
   "execution_count": null,
   "id": "cdeff53e-e8ea-42ca-b374-79c9c71a60b6",
   "metadata": {},
   "outputs": [],
   "source": [
    "fig = go.Figure(go.Bar(x = top20['start_station_name'], y = top20['value']))\n",
    "fig.show()"
   ]
  },
  {
   "cell_type": "code",
   "execution_count": null,
   "id": "a933d19f-2c05-4fb1-bc0c-bd9c4264d6b0",
   "metadata": {},
   "outputs": [],
   "source": [
    "import plotly.graph_objects as go\n",
    "\n",
    "# Create the bar chart with a colorscale\n",
    "fig = go.Figure(go.Bar(\n",
    "    x=top20['start_station_name'], \n",
    "    y=top20['value'],\n",
    "    marker={\n",
    "        'color': top20['value'],  # Use values to determine the color\n",
    "        'colorscale': 'Blues',  # Choose a colorscale\n",
    "        'showscale': True  # Show the color scale legend\n",
    "    }\n",
    "))\n",
    "\n",
    "# Customize layout\n",
    "fig.update_layout(\n",
    "    title='Top 20 most popular bike stations in Chicago',\n",
    "    xaxis_title='Start stations',\n",
    "    yaxis_title='Sum of trips',\n",
    "    width=900, height=600\n",
    ")\n",
    "\n",
    "# Show the chart\n",
    "fig.show()\n"
   ]
  },
  {
   "cell_type": "code",
   "execution_count": null,
   "id": "316eb74b-79f4-447e-a777-5b8f68da676b",
   "metadata": {},
   "outputs": [],
   "source": [
    "import gc # this is a garbage collector\n",
    "gc.collect()"
   ]
  },
  {
   "cell_type": "code",
   "execution_count": null,
   "id": "b2c168e7-6f1b-43c0-9acc-5ac75c2e6403",
   "metadata": {},
   "outputs": [],
   "source": [
    "# Save the top 20 stations as a csv file \n",
    "\n",
    "top20.to_csv('top20.csv')"
   ]
  },
  {
   "cell_type": "code",
   "execution_count": null,
   "id": "a54244ee-09b6-453a-927a-7cefd1a793b7",
   "metadata": {},
   "outputs": [],
   "source": [
    "df.columns"
   ]
  },
  {
   "cell_type": "markdown",
   "id": "e0b46334-7a31-4ead-a78e-19a530f165d6",
   "metadata": {},
   "source": [
    "### Create subset "
   ]
  },
  {
   "cell_type": "code",
   "execution_count": null,
   "id": "3fdcff02-9a6a-4869-baa7-79d566c3be44",
   "metadata": {},
   "outputs": [],
   "source": [
    "np.random.seed(32)\n",
    "red = np.random.rand(len(df)) <= 0.92"
   ]
  },
  {
   "cell_type": "code",
   "execution_count": null,
   "id": "9c18dace-e092-4cd9-8db9-0fc936795034",
   "metadata": {},
   "outputs": [],
   "source": [
    "small = df[~red]"
   ]
  },
  {
   "cell_type": "code",
   "execution_count": null,
   "id": "dc1bd94b-af5b-420e-9017-300c792bbf34",
   "metadata": {},
   "outputs": [],
   "source": [
    "small.shape"
   ]
  },
  {
   "cell_type": "code",
   "execution_count": null,
   "id": "a3f4fb56-3657-479e-b79b-84ffb58ad8b6",
   "metadata": {},
   "outputs": [],
   "source": [
    "# Line chart\n",
    "\n",
    "fig = make_subplots(specs = [[{\"secondary_y\": True}]])\n",
    "\n",
    "fig.add_trace(\n",
    "go.Scatter(x = small['date'], y = small['bike_rides_daily'], name = 'Daily bike rides'),\n",
    "secondary_y = False\n",
    ")\n",
    "\n",
    "fig.add_trace(\n",
    "go.Scatter(x=small['date'], y = small['avgTemp'], name = 'Daily temperature'),\n",
    "secondary_y=True\n",
    ")"
   ]
  },
  {
   "cell_type": "code",
   "execution_count": null,
   "id": "2b2b2670-aed1-4145-aef9-37c4b01be6f0",
   "metadata": {},
   "outputs": [],
   "source": [
    "\n",
    "# Create a figure with two y-axes\n",
    "fig = make_subplots(specs=[[{\"secondary_y\": True}]])\n",
    "\n",
    "# Add the first trace (bike rides)\n",
    "fig.add_trace(\n",
    "    go.Scatter(\n",
    "        x=small['date'], \n",
    "        y=small['bike_rides_daily'], \n",
    "        name='Daily bike rides',\n",
    "        marker=dict(color='blue')\n",
    "    ),\n",
    "    secondary_y=False\n",
    ")\n",
    "\n",
    "# Add the second trace (temperature)\n",
    "fig.add_trace(\n",
    "    go.Scatter(\n",
    "        x=small['date'], \n",
    "        y=small['avgTemp'], \n",
    "        name='Daily temperature',\n",
    "        marker=dict(color='red')\n",
    "    ),\n",
    "    secondary_y=True\n",
    ")\n",
    "\n",
    "# Add titles and labels\n",
    "fig.update_layout(\n",
    "    title='Bike Rides vs Temperature (2022)',\n",
    "    xaxis_title='Date',\n",
    "    yaxis_title='Bike Rides',\n",
    "    yaxis2_title='Temperature (°C)',\n",
    "    width=900, height=500\n",
    ")\n",
    "\n",
    "# Display the chart\n",
    "fig.show()\n"
   ]
  },
  {
   "cell_type": "code",
   "execution_count": null,
   "id": "36819949-a12e-4b3e-9939-efa5648231ec",
   "metadata": {},
   "outputs": [],
   "source": [
    "fig.add_trace(\n",
    " go.Scatter(x = small['date'], y = small['bike_rides_daily'], name = 'Daily bike rides', \n",
    " marker={'color': small['bike_rides_daily'],'color': 'blue'}),\n",
    " secondary_y = False)\n",
    "\n",
    "fig.add_trace(\n",
    " go.Scatter(x=small['date'], y = small['avgTemp'], name = 'Daily temperature', \n",
    " marker={'color': small['avgTemp'],'color': 'red'}),\n",
    " secondary_y=True)"
   ]
  },
  {
   "cell_type": "code",
   "execution_count": null,
   "id": "7a29095e-9be8-4e9f-992b-92a06e508ed4",
   "metadata": {},
   "outputs": [],
   "source": [
    "small.to_csv('citi_bikes_subset.csv')"
   ]
  }
 ],
 "metadata": {
  "kernelspec": {
   "display_name": "Python [conda env:divvy_bikes] *",
   "language": "python",
   "name": "conda-env-divvy_bikes-py"
  },
  "language_info": {
   "codemirror_mode": {
    "name": "ipython",
    "version": 3
   },
   "file_extension": ".py",
   "mimetype": "text/x-python",
   "name": "python",
   "nbconvert_exporter": "python",
   "pygments_lexer": "ipython3",
   "version": "3.12.7"
  }
 },
 "nbformat": 4,
 "nbformat_minor": 5
}
